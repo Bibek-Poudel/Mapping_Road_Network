{
 "cells": [
  {
   "cell_type": "markdown",
   "id": "boring-korea",
   "metadata": {},
   "source": [
    "## Tutorial: Generating a road network graph and plotting a map using Openstreetmap data\n",
    "### Part 1: From OSM data to Pandas Dataframe"
   ]
  },
  {
   "cell_type": "markdown",
   "id": "automated-correspondence",
   "metadata": {},
   "source": [
    "#### Environment:\n",
    "- Python 3.5 or higher\n",
    "\n",
    "#### Major Dependencies: \n",
    "- PyOsmium package : [GitHub](https://github.com/osmcode/pyosmium/releases), [website](https://osmcode.org/pyosmium/)\n",
    "- PyOsmium command line tool : [website](https://github.com/osmcode/osmium-tool)  \n",
    "    - If you have pip: `pip install osmium-tool`\n",
    "- Basemap (Towards the end of step 5) \n",
    "    \n",
    "#### Estimated Completion time:\n",
    "- 8 hours\n",
    "\n",
    "#### Tutorial does not include:\n",
    "- Adjacency Matrix (For a graph, a file will be created for nodes and another file for edges)"
   ]
  },
  {
   "cell_type": "code",
   "execution_count": 11,
   "id": "adjustable-israeli",
   "metadata": {},
   "outputs": [],
   "source": [
    "import os\n",
    "import math\n",
    "import osmium\n",
    "import numpy as np\n",
    "import pandas as pd\n",
    "import matplotlib.pyplot as plt"
   ]
  },
  {
   "cell_type": "markdown",
   "id": "varied-smart",
   "metadata": {},
   "source": [
    "## Step 1: Download data \n",
    "\n",
    "__Method 1:__ Download data from OpenStreetMap, OSM file of your bounding box\n",
    "\n",
    "__Method 2:__ If the bounding box area from OpenStreetMap is too large.\n",
    "- you may have to use alternative download site.\n",
    "- Alternative sites may have their own caveats, I used geofabrik.de which has maps of entire regions.\n",
    "- So I had to download the map data of entire South California. [here]( http://download.geofabrik.de/north-america/us/california/socal.html)\n",
    "- I will cut the desired bounding box from this big map.\n",
    "\n",
    "__NOTE:__ The file I downloaded and unzipped is south_cal.osm (10 GB size). \n",
    "- Its too big to be uploaded in GitHub, assume that it exists in './OSM_files/south_cal.osm'"
   ]
  },
  {
   "cell_type": "markdown",
   "id": "mineral-spring",
   "metadata": {},
   "source": [
    "#### Use the 2 cells below only if you used method 2 in Step 1, If you used Method 1... directly go to Step 2\n",
    "- Essentially, we get the desired bounding box from a large map in the 2 cells below\n",
    "- Getting the Bounding Box can be tricky (with negative and positive values). see the diagram below \n",
    "\n",
    "![alt text](images/Group.png)"
   ]
  },
  {
   "cell_type": "code",
   "execution_count": 12,
   "id": "straight-hypothetical",
   "metadata": {},
   "outputs": [
    {
     "name": "stdout",
     "output_type": "stream",
     "text": [
      "[ 0:00] Started osmium extract\n",
      "[ 0:00]   osmium version 1.13.0\n",
      "[ 0:00]   libosmium version 2.16.0\n",
      "[ 0:00] Command line options and default settings:\n",
      "[ 0:00]   input options:\n",
      "[ 0:00]     file name: ./OSM_files/south_cal.osm\n",
      "[ 0:00]     file format: \n",
      "[ 0:00]   output options:\n",
      "[ 0:00]     file name: ./OSM_files/bounding_box.osm\n",
      "[ 0:00]     file format: \n",
      "[ 0:00]     generator: osmium/1.13.0\n",
      "[ 0:00]     overwrite: no\n",
      "[ 0:00]     fsync: no\n",
      "[ 0:00]   strategy options:\n",
      "[ 0:00]     strategy: complete_ways\n",
      "[ 0:00]     with history: no\n",
      "[ 0:00]   other options:\n",
      "[ 0:00]     config file: \n",
      "[ 0:00]     output directory: \n",
      "[ 0:00] \n",
      "[ 0:00] Extracts:\n",
      "[ 0:00] [01] Output:      ./OSM_files/bounding_box.osm\n",
      "[ 0:00]      Format:      XML\n",
      "[ 0:00]      Description: \n",
      "[ 0:00]      Envelope:    (-118.6983,33.8017,-117.7269,34.572)\n",
      "[ 0:00]      Type:        bbox\n",
      "[ 0:00]      Geometry:    BOX(-118.6983 33.8017,-117.7269 34.572)\n",
      "[ 0:00] \n",
      "[ 0:00] Running 'complete_ways' strategy in two passes...\n",
      "[ 0:00] First pass (of two)...\n",
      "[13:00] Second pass (of two)...                                               \n",
      "[======================================================================] 100% ============================================>                         ]  63% \n",
      "[26:18] Done.\n"
     ]
    }
   ],
   "source": [
    "# Apply bounding box (-b = bounding box, -v = verbose, -o = output file)\n",
    "# Using the osmium command line tool to get a slice of the map that is relevant to us\n",
    "\n",
    "!osmium extract -v -b -118.6983,33.8017,-117.7269,34.5720 './OSM_files/south_cal.osm' -o './OSM_files/bounding_box.osm'"
   ]
  },
  {
   "cell_type": "code",
   "execution_count": 15,
   "id": "turned-forum",
   "metadata": {},
   "outputs": [
    {
     "name": "stdout",
     "output_type": "stream",
     "text": [
      "File:\r\n",
      "  Name: ./OSM_files/bounding_box.osm\r\n",
      "  Format: XML\r\n",
      "  Compression: none\r\n",
      "  Size: 5698020449\r\n",
      "Header:\r\n",
      "  Bounding boxes:\r\n",
      "  With history: no\r\n",
      "  Options:\r\n",
      "    generator=osmium/1.13.0\r\n",
      "    version=0.6\r\n"
     ]
    }
   ],
   "source": [
    "# This is still a huge file\n",
    "!osmium fileinfo './OSM_files/bounding_box.osm'"
   ]
  },
  {
   "cell_type": "markdown",
   "id": "driven-resolution",
   "metadata": {},
   "source": [
    "## Step 2: Extract relevant road type i.e. create a filter using osmium\n",
    "\n",
    "- The openstreet data model consists of Nodes, Ways and Relations\n",
    "- Everything in OSM is made up of nodes. Roads are Ways which are collection of nodes\n",
    "- The gcgrnn_box.osm file will have a list of nodes with node id and other attributes first\n",
    "- Followed by list of ways with way id, which internally has reference to node ids among other attributes \n",
    "- Ways also have XML tags in them that specify what the way belongs to\n",
    "- From bounding_box.osm, we want ways with \"highway\" XML tags of the following 11 types:\n",
    "    1. motorway\n",
    "    2. trunk\n",
    "    3. secondary\n",
    "    4. tertiary\n",
    "    5. unclassified\n",
    "    6. residential\n",
    "    7. motorway_link\n",
    "    8. trunk_link\n",
    "    9. primary_link\n",
    "    10. secondary_link\n",
    "    11. tertiary_link\n",
    "    \n",
    "- If you inspect the XML files key = highway and value = one of the 11 types above"
   ]
  },
  {
   "cell_type": "markdown",
   "id": "cellular-translation",
   "metadata": {},
   "source": [
    "#### Sub-Step: Collect all the nodes that belong to the highway type above\n",
    "- Get all the Node IDs that belong to one of the 11 highway types"
   ]
  },
  {
   "cell_type": "code",
   "execution_count": 16,
   "id": "prescription-amateur",
   "metadata": {},
   "outputs": [
    {
     "name": "stdout",
     "output_type": "stream",
     "text": [
      "Total number of highway nodes =  840009\n"
     ]
    }
   ],
   "source": [
    "highway_nodes = set()\n",
    "\n",
    "# works as callbacks\n",
    "# osmium.Simplehandler to create filter\n",
    "class NodesCollect(osmium.SimpleHandler):\n",
    "    def __init__(self):\n",
    "        super(NodesCollect, self).__init__()\n",
    "        \n",
    "    def way(self, w):\n",
    "        if w.tags.get('highway') in ('motorway',\n",
    "                                     'trunk',\n",
    "                                     'secondary',\n",
    "                                     'tertiary',\n",
    "                                     'unclassified',\n",
    "                                     'residential',\n",
    "                                     'motorway_link',\n",
    "                                     'trunk_link',\n",
    "                                     'primary_link',\n",
    "                                     'secondary_link',\n",
    "                                     'tertiary_link'):\n",
    "            try:\n",
    "                # Get all the nodes in this way\n",
    "                highway_nodes.update([n.ref for n in w.nodes])\n",
    "            except osmium.InvalidLocationError:\n",
    "                print(\"WARNING: way %d incomplete\"%w.id)\n",
    "\n",
    "node_collector = NodesCollect()\n",
    "\n",
    "# Here we do not need locations\n",
    "node_collector.apply_file(\"./OSM_files/bounding_box.osm\")\n",
    "\n",
    "print(\"Total number of highway nodes = \",len(highway_nodes))"
   ]
  },
  {
   "cell_type": "markdown",
   "id": "african-purse",
   "metadata": {},
   "source": [
    "#### Sub-Step: Using the list of nodes, get all the ways that reference the nodes above\n",
    "- Get all the Way IDs that belong to one of the 11 highway types"
   ]
  },
  {
   "cell_type": "code",
   "execution_count": 17,
   "id": "agreed-timothy",
   "metadata": {},
   "outputs": [],
   "source": [
    "writer = osmium.SimpleWriter(\"./OSM_files/Highways_nodes_ways.osm\")\n",
    "\n",
    "class HighwayFilter(osmium.SimpleHandler):\n",
    "    def __init__(self):\n",
    "        super(HighwayFilter, self).__init__()\n",
    "        \n",
    "    def node(self, n):\n",
    "\n",
    "        # now if the node belong to the highway add it to file\n",
    "        if n.id in highway_nodes:\n",
    "            writer.add_node(n)\n",
    "            \n",
    "    def way(self, w):\n",
    "        if  w.tags.get('highway') in ('motorway',\n",
    "                          'trunk', \n",
    "                          'secondary', \n",
    "                          'tertiary', \n",
    "                          'unclassified', \n",
    "                          'residential', \n",
    "                          'motorway_link',\n",
    "                          'trunk_link',\n",
    "                          'primary_link',\n",
    "                          'secondary_link',\n",
    "                          'tertiary_link') :\n",
    "            writer.add_way(w)\n",
    "            \n",
    "high_filter = HighwayFilter()\n",
    "\n",
    "# Here we do need locations\n",
    "high_filter.apply_file(\"./OSM_files/bounding_box.osm\", locations=True)"
   ]
  },
  {
   "cell_type": "markdown",
   "id": "related-immune",
   "metadata": {},
   "source": [
    "- It may seem strange why we had to get seperate lists of nodes and ways \n",
    "- its because in OSM data, all nodes have locations (lat and long) but ways do not\n",
    "- we will add location data to all our ways below"
   ]
  },
  {
   "cell_type": "markdown",
   "id": "alternate-observation",
   "metadata": {},
   "source": [
    "## Step 3: Add location to ways"
   ]
  },
  {
   "cell_type": "code",
   "execution_count": 18,
   "id": "sophisticated-yacht",
   "metadata": {},
   "outputs": [
    {
     "name": "stdout",
     "output_type": "stream",
     "text": [
      "[ 0:00] Started osmium add-locations-to-ways\n",
      "[ 0:00]   osmium version 1.13.0\n",
      "[ 0:00]   libosmium version 2.16.0\n",
      "[ 0:00] Command line options and default settings:\n",
      "[ 0:00]   input options:\n",
      "[ 0:00]     file names: \n",
      "[ 0:00]       ./OSM_files/Highways_nodes_ways.osm\n",
      "[ 0:00]     file format: \n",
      "[ 0:00]   output options:\n",
      "[ 0:00]     file name: ./OSM_files/highways_final.osm\n",
      "[ 0:00]     file format: \n",
      "[ 0:00]     generator: osmium/1.13.0\n",
      "[ 0:00]     overwrite: no\n",
      "[ 0:00]     fsync: no\n",
      "[ 0:00]   other options:\n",
      "[ 0:00]     index type (for positive ids): flex_mem\n",
      "[ 0:00]     index type (for negative ids): flex_mem\n",
      "[ 0:00]     keep untagged nodes: no\n",
      "[ 0:00] \n",
      "[ 0:00] Copying input file './OSM_files/Highways_nodes_ways.osm'\n",
      "[======================================================================] 100% \n",
      "XML parsing error at line 3454145, column 0: no element found\n"
     ]
    }
   ],
   "source": [
    "# -o is the output file\n",
    "# -n Keep the untagged nodes in the output file (file size will be a lot bigger than input)\n",
    "\n",
    "!osmium add-locations-to-ways --ignore-missing-nodes -v -o './OSM_files/highways_final.osm' './OSM_files/Highways_nodes_ways.osm'"
   ]
  },
  {
   "cell_type": "code",
   "execution_count": 19,
   "id": "preceding-vocabulary",
   "metadata": {},
   "outputs": [],
   "source": [
    "# Even with the error above, 100% of the file is processed. And does not effect mapping."
   ]
  },
  {
   "cell_type": "code",
   "execution_count": 20,
   "id": "objective-bachelor",
   "metadata": {},
   "outputs": [
    {
     "name": "stdout",
     "output_type": "stream",
     "text": [
      "File:\r\n",
      "  Name: ./OSM_files/highways_final.osm\r\n",
      "  Format: XML\r\n",
      "  Compression: none\r\n",
      "  Size: 129123712\r\n",
      "Header:\r\n",
      "  Bounding boxes:\r\n",
      "  With history: no\r\n",
      "  Options:\r\n",
      "    generator=osmium/1.13.0\r\n",
      "    version=0.6\r\n"
     ]
    }
   ],
   "source": [
    "!osmium fileinfo './OSM_files/highways_final.osm' "
   ]
  },
  {
   "cell_type": "markdown",
   "id": "wrong-islam",
   "metadata": {},
   "source": [
    "## Step 4: Create Pandas DataFrame from ways\n",
    "\n",
    "- There are 2 ways to access location data from nodes in ways n.location and (n.location.x, n.location.y)\n",
    "- May encounter: \"Ways callback keeps reference error\", just restart kernel"
   ]
  },
  {
   "cell_type": "code",
   "execution_count": 21,
   "id": "laughing-north",
   "metadata": {},
   "outputs": [],
   "source": [
    "# Each way tags have nodes inside\n",
    "\n",
    "class OSM_to_pandas_ways(osmium.SimpleHandler):\n",
    "    def __init__(self):\n",
    "        osmium.SimpleHandler.__init__(self)\n",
    "        self.osm_data=[]\n",
    "        \n",
    "    def way(self,w):\n",
    "        \n",
    "        #print(\"\\n#Way:{}\".format(w.id))\n",
    "        \n",
    "        node_ids = [n.ref for n in w.nodes]\n",
    "        \n",
    "        #Some diagnostic print statements\n",
    "        #print(\"\\nNode IDS:\",node_ids)\n",
    "        \n",
    "        #node_locations = [n.location for n in w.nodes]\n",
    "        #print(\"\\n Node Locations\",node_locations )\n",
    "        \n",
    "        node_locations=[]\n",
    "        for n in w.nodes:\n",
    "            \n",
    "            #Some more diagnostic print statements\n",
    "            #print(n.location)\n",
    "\n",
    "            # .location loses one decimal point value\n",
    "            # .location.x keeps that \n",
    "            \n",
    "            #print(str(n.location))\n",
    "            #a = str(n.location.x)+\"/\"+str(n.location.y)\n",
    "            #print(a)\n",
    "            \n",
    "            long = float(str(n.location.x))/10000000\n",
    "            lat = float(str(n.location.y))/10000000\n",
    "            \n",
    "            node_locations.append((lat, long))\n",
    "            \n",
    "        #print(\"\\n Node Locations\",node_locations)\n",
    "        \n",
    "        # Append\n",
    "        self.osm_data.append([w.id, node_ids, node_locations])\n",
    "            \n",
    "way_creator = OSM_to_pandas_ways()\n",
    "way_creator.apply_file(\"OSM_files/highways_final.osm\")\n",
    "\n",
    "# The directionality is not embedded"
   ]
  },
  {
   "cell_type": "code",
   "execution_count": 24,
   "id": "alive-cooking",
   "metadata": {},
   "outputs": [
    {
     "data": {
      "text/html": [
       "<div>\n",
       "<style scoped>\n",
       "    .dataframe tbody tr th:only-of-type {\n",
       "        vertical-align: middle;\n",
       "    }\n",
       "\n",
       "    .dataframe tbody tr th {\n",
       "        vertical-align: top;\n",
       "    }\n",
       "\n",
       "    .dataframe thead th {\n",
       "        text-align: right;\n",
       "    }\n",
       "</style>\n",
       "<table border=\"1\" class=\"dataframe\">\n",
       "  <thead>\n",
       "    <tr style=\"text-align: right;\">\n",
       "      <th></th>\n",
       "      <th>Way ID</th>\n",
       "      <th>Node IDs</th>\n",
       "      <th>Lat/Long</th>\n",
       "    </tr>\n",
       "  </thead>\n",
       "  <tbody>\n",
       "    <tr>\n",
       "      <th>0</th>\n",
       "      <td>2417713</td>\n",
       "      <td>[297523835, 364042999]</td>\n",
       "      <td>[(34.2599243, -118.4387025), (34.2567447, -118...</td>\n",
       "    </tr>\n",
       "    <tr>\n",
       "      <th>1</th>\n",
       "      <td>2430283</td>\n",
       "      <td>[598686507, 1377652371, 268525224, 3768827286,...</td>\n",
       "      <td>[(34.0906254, -118.1460757), (34.0906925, -118...</td>\n",
       "    </tr>\n",
       "    <tr>\n",
       "      <th>2</th>\n",
       "      <td>2430510</td>\n",
       "      <td>[27059058, 268524718, 4033681836]</td>\n",
       "      <td>[(34.0875384, -118.1449876), (34.0875564, -118...</td>\n",
       "    </tr>\n",
       "    <tr>\n",
       "      <th>3</th>\n",
       "      <td>3102198</td>\n",
       "      <td>[26390344, 14806190, 1132180415, 367134010, 11...</td>\n",
       "      <td>[(34.5541692, -118.6712305), (34.5545403, -118...</td>\n",
       "    </tr>\n",
       "    <tr>\n",
       "      <th>4</th>\n",
       "      <td>3124334</td>\n",
       "      <td>[27363713, 371965757, 371965758, 14918242]</td>\n",
       "      <td>[(34.1107781, -118.1799885), (34.1107071, -118...</td>\n",
       "    </tr>\n",
       "  </tbody>\n",
       "</table>\n",
       "</div>"
      ],
      "text/plain": [
       "    Way ID                                           Node IDs  \\\n",
       "0  2417713                             [297523835, 364042999]   \n",
       "1  2430283  [598686507, 1377652371, 268525224, 3768827286,...   \n",
       "2  2430510                  [27059058, 268524718, 4033681836]   \n",
       "3  3102198  [26390344, 14806190, 1132180415, 367134010, 11...   \n",
       "4  3124334         [27363713, 371965757, 371965758, 14918242]   \n",
       "\n",
       "                                            Lat/Long  \n",
       "0  [(34.2599243, -118.4387025), (34.2567447, -118...  \n",
       "1  [(34.0906254, -118.1460757), (34.0906925, -118...  \n",
       "2  [(34.0875384, -118.1449876), (34.0875564, -118...  \n",
       "3  [(34.5541692, -118.6712305), (34.5545403, -118...  \n",
       "4  [(34.1107781, -118.1799885), (34.1107071, -118...  "
      ]
     },
     "execution_count": 24,
     "metadata": {},
     "output_type": "execute_result"
    }
   ],
   "source": [
    "# Column names for Pandas Dataframe\n",
    "col_names = ['Way ID', 'Node IDs','Lat/Long']\n",
    "df_ways = pd.DataFrame(way_creator.osm_data, columns=col_names)\n",
    "df_ways.head()"
   ]
  },
  {
   "cell_type": "markdown",
   "id": "subtle-connection",
   "metadata": {},
   "source": [
    "## Step 5: Towards graph\n",
    "\n",
    "- Here, we have all the ways, all the node IDs associated with ways and locations of the nodes\n",
    "- To create a graph we will create 2 files, one for nodes and one for edges\n",
    "- Starting from this step, most work is done in Pandas"
   ]
  },
  {
   "cell_type": "markdown",
   "id": "middle-gather",
   "metadata": {},
   "source": [
    "#### Create a new ID for all nodes \n",
    "- We will create a unique list of node IDs and use its index as new node IDs"
   ]
  },
  {
   "cell_type": "code",
   "execution_count": 26,
   "id": "golden-court",
   "metadata": {},
   "outputs": [
    {
     "name": "stdout",
     "output_type": "stream",
     "text": [
      "777017\n",
      "777017\n"
     ]
    }
   ],
   "source": [
    "# All the edges\n",
    "# New node IDs are the index of nodes in this list (start from 0)\n",
    "\n",
    "already_processed_nodes =[]\n",
    "\n",
    "# Nested for loop and a if condition, very inefficient\n",
    "for i, (w_id, n_id, lat_long) in df_ways.iterrows():\n",
    "    #print(i)\n",
    "    for j in n_id:\n",
    "        \n",
    "        #print(n_id[j])\n",
    "        \n",
    "        # Make a unique copy of all the nodes\n",
    "        if j not in already_processed_nodes:\n",
    "            already_processed_nodes.append(j)\n",
    "\n",
    "already_processed_nodes = np.array(already_processed_nodes)\n",
    "\n",
    "# Verify\n",
    "print(len(already_processed_nodes))\n",
    "a = np.unique(already_processed_nodes)\n",
    "print(len(a))"
   ]
  },
  {
   "cell_type": "code",
   "execution_count": 28,
   "id": "exterior-voice",
   "metadata": {},
   "outputs": [
    {
     "data": {
      "text/html": [
       "<div>\n",
       "<style scoped>\n",
       "    .dataframe tbody tr th:only-of-type {\n",
       "        vertical-align: middle;\n",
       "    }\n",
       "\n",
       "    .dataframe tbody tr th {\n",
       "        vertical-align: top;\n",
       "    }\n",
       "\n",
       "    .dataframe thead th {\n",
       "        text-align: right;\n",
       "    }\n",
       "</style>\n",
       "<table border=\"1\" class=\"dataframe\">\n",
       "  <thead>\n",
       "    <tr style=\"text-align: right;\">\n",
       "      <th></th>\n",
       "      <th>Way ID</th>\n",
       "      <th>Node IDs</th>\n",
       "      <th>New node IDs</th>\n",
       "      <th>Lat/Long</th>\n",
       "    </tr>\n",
       "  </thead>\n",
       "  <tbody>\n",
       "    <tr>\n",
       "      <th>0</th>\n",
       "      <td>2417713</td>\n",
       "      <td>[297523835, 364042999]</td>\n",
       "      <td>[0, 1]</td>\n",
       "      <td>[(34.2599243, -118.4387025), (34.2567447, -118...</td>\n",
       "    </tr>\n",
       "    <tr>\n",
       "      <th>1</th>\n",
       "      <td>2430283</td>\n",
       "      <td>[598686507, 1377652371, 268525224, 3768827286,...</td>\n",
       "      <td>[2, 3, 4, 5, 6, 7, 8, 9, 10, 11, 12, 13, 14, 1...</td>\n",
       "      <td>[(34.0906254, -118.1460757), (34.0906925, -118...</td>\n",
       "    </tr>\n",
       "    <tr>\n",
       "      <th>2</th>\n",
       "      <td>2430510</td>\n",
       "      <td>[27059058, 268524718, 4033681836]</td>\n",
       "      <td>[18, 19, 20]</td>\n",
       "      <td>[(34.0875384, -118.1449876), (34.0875564, -118...</td>\n",
       "    </tr>\n",
       "    <tr>\n",
       "      <th>3</th>\n",
       "      <td>3102198</td>\n",
       "      <td>[26390344, 14806190, 1132180415, 367134010, 11...</td>\n",
       "      <td>[21, 22, 23, 24, 25, 26, 27, 28, 29, 30, 31, 3...</td>\n",
       "      <td>[(34.5541692, -118.6712305), (34.5545403, -118...</td>\n",
       "    </tr>\n",
       "    <tr>\n",
       "      <th>4</th>\n",
       "      <td>3124334</td>\n",
       "      <td>[27363713, 371965757, 371965758, 14918242]</td>\n",
       "      <td>[37, 38, 39, 40]</td>\n",
       "      <td>[(34.1107781, -118.1799885), (34.1107071, -118...</td>\n",
       "    </tr>\n",
       "  </tbody>\n",
       "</table>\n",
       "</div>"
      ],
      "text/plain": [
       "    Way ID                                           Node IDs  \\\n",
       "0  2417713                             [297523835, 364042999]   \n",
       "1  2430283  [598686507, 1377652371, 268525224, 3768827286,...   \n",
       "2  2430510                  [27059058, 268524718, 4033681836]   \n",
       "3  3102198  [26390344, 14806190, 1132180415, 367134010, 11...   \n",
       "4  3124334         [27363713, 371965757, 371965758, 14918242]   \n",
       "\n",
       "                                        New node IDs  \\\n",
       "0                                             [0, 1]   \n",
       "1  [2, 3, 4, 5, 6, 7, 8, 9, 10, 11, 12, 13, 14, 1...   \n",
       "2                                       [18, 19, 20]   \n",
       "3  [21, 22, 23, 24, 25, 26, 27, 28, 29, 30, 31, 3...   \n",
       "4                                   [37, 38, 39, 40]   \n",
       "\n",
       "                                            Lat/Long  \n",
       "0  [(34.2599243, -118.4387025), (34.2567447, -118...  \n",
       "1  [(34.0906254, -118.1460757), (34.0906925, -118...  \n",
       "2  [(34.0875384, -118.1449876), (34.0875564, -118...  \n",
       "3  [(34.5541692, -118.6712305), (34.5545403, -118...  \n",
       "4  [(34.1107781, -118.1799885), (34.1107071, -118...  "
      ]
     },
     "execution_count": 28,
     "metadata": {},
     "output_type": "execute_result"
    }
   ],
   "source": [
    "# we go through the list again\n",
    "new_node_ids_column = []\n",
    "\n",
    "# again , very inefficient\n",
    "for i, (w_id, n_id, lat_long) in df_ways.iterrows():\n",
    "    #print(i)\n",
    "    new_node_ids=[]\n",
    "    for j in n_id:\n",
    "        new_node_ids.append(np.where(already_processed_nodes==j)[0][0])\n",
    "        #print(type(np.where(already_processed_nodes==j)[0]))\n",
    "    new_node_ids_column.append(new_node_ids)\n",
    "    \n",
    "df_ways.insert(loc=2, column='New node IDs', value=new_node_ids_column)\n",
    "df_ways.head()"
   ]
  },
  {
   "cell_type": "code",
   "execution_count": 29,
   "id": "ranging-settlement",
   "metadata": {},
   "outputs": [],
   "source": [
    "# save file\n",
    "df_ways.to_pickle('./other_files/new_node_ids_data_frame.pkl') "
   ]
  },
  {
   "cell_type": "code",
   "execution_count": 30,
   "id": "connected-broad",
   "metadata": {
    "scrolled": true
   },
   "outputs": [
    {
     "data": {
      "text/html": [
       "<div>\n",
       "<style scoped>\n",
       "    .dataframe tbody tr th:only-of-type {\n",
       "        vertical-align: middle;\n",
       "    }\n",
       "\n",
       "    .dataframe tbody tr th {\n",
       "        vertical-align: top;\n",
       "    }\n",
       "\n",
       "    .dataframe thead th {\n",
       "        text-align: right;\n",
       "    }\n",
       "</style>\n",
       "<table border=\"1\" class=\"dataframe\">\n",
       "  <thead>\n",
       "    <tr style=\"text-align: right;\">\n",
       "      <th></th>\n",
       "      <th>Way ID</th>\n",
       "      <th>Node IDs</th>\n",
       "      <th>New node IDs</th>\n",
       "      <th>Lat/Long</th>\n",
       "    </tr>\n",
       "  </thead>\n",
       "  <tbody>\n",
       "    <tr>\n",
       "      <th>0</th>\n",
       "      <td>2417713</td>\n",
       "      <td>[297523835, 364042999]</td>\n",
       "      <td>[0, 1]</td>\n",
       "      <td>[(34.2599243, -118.4387025), (34.2567447, -118...</td>\n",
       "    </tr>\n",
       "    <tr>\n",
       "      <th>1</th>\n",
       "      <td>2430283</td>\n",
       "      <td>[598686507, 1377652371, 268525224, 3768827286,...</td>\n",
       "      <td>[2, 3, 4, 5, 6, 7, 8, 9, 10, 11, 12, 13, 14, 1...</td>\n",
       "      <td>[(34.0906254, -118.1460757), (34.0906925, -118...</td>\n",
       "    </tr>\n",
       "    <tr>\n",
       "      <th>2</th>\n",
       "      <td>2430510</td>\n",
       "      <td>[27059058, 268524718, 4033681836]</td>\n",
       "      <td>[18, 19, 20]</td>\n",
       "      <td>[(34.0875384, -118.1449876), (34.0875564, -118...</td>\n",
       "    </tr>\n",
       "    <tr>\n",
       "      <th>3</th>\n",
       "      <td>3102198</td>\n",
       "      <td>[26390344, 14806190, 1132180415, 367134010, 11...</td>\n",
       "      <td>[21, 22, 23, 24, 25, 26, 27, 28, 29, 30, 31, 3...</td>\n",
       "      <td>[(34.5541692, -118.6712305), (34.5545403, -118...</td>\n",
       "    </tr>\n",
       "    <tr>\n",
       "      <th>4</th>\n",
       "      <td>3124334</td>\n",
       "      <td>[27363713, 371965757, 371965758, 14918242]</td>\n",
       "      <td>[37, 38, 39, 40]</td>\n",
       "      <td>[(34.1107781, -118.1799885), (34.1107071, -118...</td>\n",
       "    </tr>\n",
       "  </tbody>\n",
       "</table>\n",
       "</div>"
      ],
      "text/plain": [
       "    Way ID                                           Node IDs  \\\n",
       "0  2417713                             [297523835, 364042999]   \n",
       "1  2430283  [598686507, 1377652371, 268525224, 3768827286,...   \n",
       "2  2430510                  [27059058, 268524718, 4033681836]   \n",
       "3  3102198  [26390344, 14806190, 1132180415, 367134010, 11...   \n",
       "4  3124334         [27363713, 371965757, 371965758, 14918242]   \n",
       "\n",
       "                                        New node IDs  \\\n",
       "0                                             [0, 1]   \n",
       "1  [2, 3, 4, 5, 6, 7, 8, 9, 10, 11, 12, 13, 14, 1...   \n",
       "2                                       [18, 19, 20]   \n",
       "3  [21, 22, 23, 24, 25, 26, 27, 28, 29, 30, 31, 3...   \n",
       "4                                   [37, 38, 39, 40]   \n",
       "\n",
       "                                            Lat/Long  \n",
       "0  [(34.2599243, -118.4387025), (34.2567447, -118...  \n",
       "1  [(34.0906254, -118.1460757), (34.0906925, -118...  \n",
       "2  [(34.0875384, -118.1449876), (34.0875564, -118...  \n",
       "3  [(34.5541692, -118.6712305), (34.5545403, -118...  \n",
       "4  [(34.1107781, -118.1799885), (34.1107071, -118...  "
      ]
     },
     "execution_count": 30,
     "metadata": {},
     "output_type": "execute_result"
    }
   ],
   "source": [
    "new_nodes_ids_df = pd.read_pickle('./other_files/new_node_ids_data_frame.pkl')\n",
    "new_nodes_ids_df.head()"
   ]
  },
  {
   "cell_type": "code",
   "execution_count": null,
   "id": "honey-decline",
   "metadata": {},
   "outputs": [],
   "source": []
  }
 ],
 "metadata": {
  "kernelspec": {
   "display_name": "Python 3",
   "language": "python",
   "name": "python3"
  },
  "language_info": {
   "codemirror_mode": {
    "name": "ipython",
    "version": 3
   },
   "file_extension": ".py",
   "mimetype": "text/x-python",
   "name": "python",
   "nbconvert_exporter": "python",
   "pygments_lexer": "ipython3",
   "version": "3.9.1"
  }
 },
 "nbformat": 4,
 "nbformat_minor": 5
}
