{
 "cells": [
  {
   "cell_type": "markdown",
   "metadata": {},
   "source": [
    "## Tutorial: Generating a road network graph and plotting a map using Openstreetmap data\n",
    "### Part 2: From Pandas Dataframe to graph"
   ]
  },
  {
   "cell_type": "markdown",
   "metadata": {},
   "source": [
    "#### Environment:\n",
    "- Python: 2.7\n",
    "    - Create a Conda virtual environment with python 2.7 [tutorial](https://uoa-eresearch.github.io/eresearch-cookbook/recipe/2014/11/20/conda/)\n",
    "    - Inside the virtualenv I did a fresh install of Jupyter Notebook, installed a new jupyter kernel and launched this notebook in this new kernel\n",
    "\n",
    "#### Major Dependencies: \n",
    "\n",
    "- Basemap \n",
    "\n",
    "    - Basemap, can only be installed using [Conda](https://docs.conda.io/en/latest/miniconda.html)\n",
    "    - Install Basemap inside the conda virtual env\n",
    "    \n",
    "    - (Installing Basemap was a big headache for me)\n",
    "    - One alternative is to build from source using the command: pip install https://github.com/matplotlib/basemap/archive/master.zip\n",
    "    \n",
    "#### Estimated Completion time:\n",
    "- 2 hours"
   ]
  },
  {
   "cell_type": "code",
   "execution_count": 1,
   "metadata": {},
   "outputs": [
    {
     "name": "stdout",
     "output_type": "stream",
     "text": [
      "Python 2.7.16 :: Anaconda, Inc.\r\n"
     ]
    }
   ],
   "source": [
    "!python -V"
   ]
  },
  {
   "cell_type": "code",
   "execution_count": 7,
   "metadata": {},
   "outputs": [],
   "source": [
    "# Resolving these issues is going to be dependent on your specific system\n",
    "\n",
    "import os\n",
    "os.environ[\"PROJ_LIB\"] = os.path.join(os.environ[\"CONDA_PREFIX\"], \"share\", \"proj\")"
   ]
  },
  {
   "cell_type": "code",
   "execution_count": 8,
   "metadata": {},
   "outputs": [
    {
     "ename": "ModuleNotFoundError",
     "evalue": "No module named 'pyproj'",
     "output_type": "error",
     "traceback": [
      "\u001b[0;31m---------------------------------------------------------------------------\u001b[0m",
      "\u001b[0;31mModuleNotFoundError\u001b[0m                       Traceback (most recent call last)",
      "\u001b[0;32m<ipython-input-8-8b33306fa715>\u001b[0m in \u001b[0;36m<module>\u001b[0;34m\u001b[0m\n\u001b[1;32m      1\u001b[0m \u001b[0;32mimport\u001b[0m \u001b[0mmpl_toolkits\u001b[0m\u001b[0;34m\u001b[0m\u001b[0;34m\u001b[0m\u001b[0m\n\u001b[1;32m      2\u001b[0m \u001b[0mmpl_toolkits\u001b[0m\u001b[0;34m.\u001b[0m\u001b[0m__path__\u001b[0m\u001b[0;34m.\u001b[0m\u001b[0mappend\u001b[0m\u001b[0;34m(\u001b[0m\u001b[0;34m'/Users/bibekpoudel/miniconda/miniconda3/envs/myenv2/lib/python2.7/site-packages/mpl_toolkits/'\u001b[0m\u001b[0;34m)\u001b[0m\u001b[0;34m\u001b[0m\u001b[0;34m\u001b[0m\u001b[0m\n\u001b[0;32m----> 3\u001b[0;31m \u001b[0;32mfrom\u001b[0m \u001b[0mmpl_toolkits\u001b[0m\u001b[0;34m.\u001b[0m\u001b[0mbasemap\u001b[0m \u001b[0;32mimport\u001b[0m \u001b[0mBasemap\u001b[0m\u001b[0;34m\u001b[0m\u001b[0;34m\u001b[0m\u001b[0m\n\u001b[0m",
      "\u001b[0;32m~/miniconda/miniconda3/envs/myenv2/lib/python2.7/site-packages/mpl_toolkits/basemap/__init__.py\u001b[0m in \u001b[0;36m<module>\u001b[0;34m\u001b[0m\n\u001b[1;32m     44\u001b[0m \u001b[0;32mfrom\u001b[0m \u001b[0mmatplotlib\u001b[0m\u001b[0;34m.\u001b[0m\u001b[0mlines\u001b[0m \u001b[0;32mimport\u001b[0m \u001b[0mLine2D\u001b[0m\u001b[0;34m\u001b[0m\u001b[0;34m\u001b[0m\u001b[0m\n\u001b[1;32m     45\u001b[0m \u001b[0;32mfrom\u001b[0m \u001b[0mmatplotlib\u001b[0m\u001b[0;34m.\u001b[0m\u001b[0mtransforms\u001b[0m \u001b[0;32mimport\u001b[0m \u001b[0mBbox\u001b[0m\u001b[0;34m\u001b[0m\u001b[0;34m\u001b[0m\u001b[0m\n\u001b[0;32m---> 46\u001b[0;31m \u001b[0;32mimport\u001b[0m \u001b[0mpyproj\u001b[0m\u001b[0;34m\u001b[0m\u001b[0;34m\u001b[0m\u001b[0m\n\u001b[0m\u001b[1;32m     47\u001b[0m \u001b[0;32mfrom\u001b[0m \u001b[0mmpl_toolkits\u001b[0m\u001b[0;34m.\u001b[0m\u001b[0maxes_grid1\u001b[0m \u001b[0;32mimport\u001b[0m \u001b[0mmake_axes_locatable\u001b[0m\u001b[0;34m\u001b[0m\u001b[0;34m\u001b[0m\u001b[0m\n\u001b[1;32m     48\u001b[0m \u001b[0;32mfrom\u001b[0m \u001b[0mmatplotlib\u001b[0m\u001b[0;34m.\u001b[0m\u001b[0mimage\u001b[0m \u001b[0;32mimport\u001b[0m \u001b[0mimread\u001b[0m\u001b[0;34m\u001b[0m\u001b[0;34m\u001b[0m\u001b[0m\n",
      "\u001b[0;31mModuleNotFoundError\u001b[0m: No module named 'pyproj'"
     ]
    }
   ],
   "source": [
    "import mpl_toolkits\n",
    "mpl_toolkits.__path__.append('/Users/bibekpoudel/miniconda/miniconda3/envs/myenv2/lib/python2.7/site-packages/mpl_toolkits/')\n",
    "from mpl_toolkits.basemap import Basemap"
   ]
  },
  {
   "cell_type": "code",
   "execution_count": 9,
   "metadata": {},
   "outputs": [
    {
     "name": "stderr",
     "output_type": "stream",
     "text": [
      "/Users/bibekpoudel/.pyenv/versions/3.9.1/lib/python3.9/site-packages/pandas/compat/__init__.py:97: UserWarning: Could not import the lzma module. Your installed Python is incomplete. Attempting to use lzma compression will result in a RuntimeError.\n",
      "  warnings.warn(msg)\n"
     ]
    }
   ],
   "source": [
    "import numpy as np\n",
    "import pandas as pd\n",
    "import matplotlib.pyplot as plt"
   ]
  },
  {
   "cell_type": "markdown",
   "metadata": {},
   "source": [
    "## Step 1: Global Projection\n",
    "- Mapping is not perfect, why? [Wiki](https://en.wikipedia.org/wiki/Map_projection)\n",
    "    - We have to project earths surface to a rectangular area\n",
    "    - The earth is not a perfect sphere\n",
    "- So there are many projection models (Different models have different assumptions and trade offs) \n",
    "- The projection I have chosen here is Cylindrical Equal Area (CEA) \n",
    "\n",
    "- What does projection do?\n",
    "    - Convert a point in earths surface (lat long) coordinates to rectangular coordinates (x,y)\n",
    "\n",
    "- Basemap, a matplotlib tool provides many projections [Site](https://matplotlib.org/basemap/users/index.html)"
   ]
  },
  {
   "cell_type": "code",
   "execution_count": 10,
   "metadata": {},
   "outputs": [
    {
     "ename": "NameError",
     "evalue": "name 'Basemap' is not defined",
     "output_type": "error",
     "traceback": [
      "\u001b[0;31m---------------------------------------------------------------------------\u001b[0m",
      "\u001b[0;31mNameError\u001b[0m                                 Traceback (most recent call last)",
      "\u001b[0;32m<ipython-input-10-269f3e792e0c>\u001b[0m in \u001b[0;36m<module>\u001b[0;34m\u001b[0m\n\u001b[0;32m----> 1\u001b[0;31m mp = Basemap(llcrnrlon = -118.6983,\n\u001b[0m\u001b[1;32m      2\u001b[0m             \u001b[0mllcrnrlat\u001b[0m \u001b[0;34m=\u001b[0m \u001b[0;36m33.8017\u001b[0m\u001b[0;34m,\u001b[0m\u001b[0;34m\u001b[0m\u001b[0;34m\u001b[0m\u001b[0m\n\u001b[1;32m      3\u001b[0m             \u001b[0murcrnrlon\u001b[0m \u001b[0;34m=\u001b[0m \u001b[0;34m-\u001b[0m\u001b[0;36m117.7269\u001b[0m\u001b[0;34m,\u001b[0m\u001b[0;34m\u001b[0m\u001b[0;34m\u001b[0m\u001b[0m\n\u001b[1;32m      4\u001b[0m             \u001b[0murcrnrlat\u001b[0m \u001b[0;34m=\u001b[0m \u001b[0;36m34.5720\u001b[0m\u001b[0;34m,\u001b[0m\u001b[0;34m\u001b[0m\u001b[0;34m\u001b[0m\u001b[0m\n\u001b[1;32m      5\u001b[0m             \u001b[0mprojection\u001b[0m\u001b[0;34m=\u001b[0m\u001b[0;34m'cea'\u001b[0m\u001b[0;34m,\u001b[0m\u001b[0;34m\u001b[0m\u001b[0;34m\u001b[0m\u001b[0m\n",
      "\u001b[0;31mNameError\u001b[0m: name 'Basemap' is not defined"
     ]
    }
   ],
   "source": [
    "mp = Basemap(llcrnrlon = -118.6983,\n",
    "            llcrnrlat = 33.8017,\n",
    "            urcrnrlon = -117.7269,\n",
    "            urcrnrlat = 34.5720,\n",
    "            projection='cea',\n",
    "            resolution='h')\n",
    "\n",
    "# considering x and y of the entire globe\n",
    "global_x_and_y=[]\n",
    "\n",
    "for i, (way_id, n_ids, new_n_ids, lat_long) in new_nodes_ids_df.iterrows():\n",
    "    insert=[]\n",
    "    for j in lat_long:\n",
    "        \n",
    "        lat = j[0]\n",
    "        \n",
    "        long = j[1]\n",
    "        \n",
    "        # Long/ Lat is supplied and Long/Lat is returned\n",
    "        y,x = mp(long, lat)\n",
    "        \n",
    "        y = round(y,5)\n",
    "        x = round(x,5)\n",
    "        \n",
    "        # inserted as x and y\n",
    "        insert.append((x,y))\n",
    "        \n",
    "    global_x_and_y.append(insert)\n",
    "new_nodes_ids_df.insert(loc=4, column='Global X_Y', value=global_x_and_y)\n",
    "new_nodes_ids_df.head()"
   ]
  },
  {
   "cell_type": "markdown",
   "metadata": {},
   "source": [
    "## Step 2: Local Projection\n",
    "- The projection above considered the entire globe as the canvas, \n",
    "- we will convert it to a local canvas with the lower left point as origin"
   ]
  },
  {
   "cell_type": "code",
   "execution_count": 11,
   "metadata": {},
   "outputs": [
    {
     "ename": "NameError",
     "evalue": "name 'mp' is not defined",
     "output_type": "error",
     "traceback": [
      "\u001b[0;31m---------------------------------------------------------------------------\u001b[0m",
      "\u001b[0;31mNameError\u001b[0m                                 Traceback (most recent call last)",
      "\u001b[0;32m<ipython-input-11-1b1c35511f90>\u001b[0m in \u001b[0;36m<module>\u001b[0;34m\u001b[0m\n\u001b[1;32m      5\u001b[0m \u001b[0mmax_long\u001b[0m \u001b[0;34m=\u001b[0m \u001b[0;34m-\u001b[0m\u001b[0;36m117.7269\u001b[0m\u001b[0;34m\u001b[0m\u001b[0;34m\u001b[0m\u001b[0m\n\u001b[1;32m      6\u001b[0m \u001b[0;34m\u001b[0m\u001b[0m\n\u001b[0;32m----> 7\u001b[0;31m \u001b[0mmin_y\u001b[0m\u001b[0;34m,\u001b[0m \u001b[0mmin_x\u001b[0m \u001b[0;34m=\u001b[0m \u001b[0mmp\u001b[0m\u001b[0;34m(\u001b[0m\u001b[0mmin_long\u001b[0m\u001b[0;34m,\u001b[0m \u001b[0mmin_lat\u001b[0m\u001b[0;34m)\u001b[0m\u001b[0;34m\u001b[0m\u001b[0;34m\u001b[0m\u001b[0m\n\u001b[0m\u001b[1;32m      8\u001b[0m \u001b[0mmax_y\u001b[0m\u001b[0;34m,\u001b[0m \u001b[0mmax_x\u001b[0m \u001b[0;34m=\u001b[0m \u001b[0mmp\u001b[0m\u001b[0;34m(\u001b[0m\u001b[0mmax_long\u001b[0m\u001b[0;34m,\u001b[0m \u001b[0mmax_lat\u001b[0m\u001b[0;34m)\u001b[0m\u001b[0;34m\u001b[0m\u001b[0;34m\u001b[0m\u001b[0m\n\u001b[1;32m      9\u001b[0m \u001b[0;34m\u001b[0m\u001b[0m\n",
      "\u001b[0;31mNameError\u001b[0m: name 'mp' is not defined"
     ]
    }
   ],
   "source": [
    "# For local x and y\n",
    "min_lat = 33.8017\n",
    "max_lat = 34.5720\n",
    "min_long = -118.6983\n",
    "max_long = -117.7269\n",
    "\n",
    "min_y, min_x = mp(min_long, min_lat)\n",
    "max_y, max_x = mp(max_long, max_lat)\n",
    "\n",
    "print(\"X : min = {}, max ={}, \\nY : min = {}, max ={}\".format(min_x, max_x, min_y ,max_y))\n",
    "\n",
    "# considering the lower left of our bounding box as (0,0): origin\n",
    "local_x_and_y=[]\n",
    "\n",
    "for i, (way_id, n_ids, new_n_ids, lat_long, global_xy) in new_nodes_ids_df.iterrows():\n",
    "    \n",
    "    insert=[]\n",
    "    for j in global_xy:\n",
    "        \n",
    "        # Percentage method\n",
    "        x = round(100*j[0]/max_x, 5)\n",
    "        y = round(100*j[1]/max_y, 5)\n",
    "        \n",
    "        insert.append((x,y))\n",
    "    local_x_and_y.append(insert)\n",
    "    \n",
    "new_nodes_ids_df.insert(loc=5, column='Local X_Y', value=local_x_and_y)\n",
    "new_nodes_ids_df.head()"
   ]
  },
  {
   "cell_type": "markdown",
   "metadata": {},
   "source": [
    "## Step 3: Create nodes and edges files\n",
    "\n",
    "- Using the dataframe above I will create la_nodes.csv and la_edges.csv files\n",
    "- __la_nodes.csv__ columns: \n",
    "    - old node id, new node_id, lat, long, x, y\n",
    "- __la_edges.csv__ columns: \n",
    "    - edge_id, node_1_new_id, node_1x, node_1y, node_2_new_id, node_2x, node_2y \n"
   ]
  },
  {
   "cell_type": "code",
   "execution_count": null,
   "metadata": {},
   "outputs": [],
   "source": [
    "# LA nodes:\n",
    "old_id, new_id =[],[]\n",
    "lat, long, x, y=[], [], [], []\n",
    "\n",
    "for i, (w_id, n_ids, new_n_ids, lat_long,  global_xy, local_x_y) in new_nodes_ids_df.iterrows():\n",
    "    for j in range(len(n_ids)):\n",
    "        old_id.append(n_ids[j])\n",
    "        new_id.append(new_n_ids[j])\n",
    "        lat.append(lat_long[j][0])\n",
    "        long.append(lat_long[j][1])\n",
    "        x.append(local_x_y[j][0])\n",
    "        y.append(local_x_y[j][1])\n",
    "        \n",
    "node_data = {'old_node_id': old_id, 'new_node_id': new_id, 'lat': lat , 'long': long, 'X':x, 'Y':y}\n",
    "\n",
    "df_nodes = pd.DataFrame(data=node_data)\n",
    "df_nodes.to_csv('./other_files/la_nodes.csv', index = None)"
   ]
  },
  {
   "cell_type": "code",
   "execution_count": null,
   "metadata": {},
   "outputs": [],
   "source": [
    "node_file = pd.read_csv('./other_files/la_nodes.csv')\n",
    "node_file.head()"
   ]
  },
  {
   "cell_type": "code",
   "execution_count": null,
   "metadata": {},
   "outputs": [],
   "source": [
    "edge_id=[]\n",
    "node_1_new_id, node_1x, node_1y =[],[],[]\n",
    "node_2_new_id, node_2x, node_2y = [],[],[]\n",
    "\n",
    "# To assign edge id\n",
    "# Edge id starts from 0 and add 1 along the way\n",
    "counter=0\n",
    "\n",
    "for i, (w_id, n_ids, new_n_ids, lat_long,  global_xy, local_x_y) in new_nodes_ids_df.iterrows():\n",
    "    \n",
    "    # len(n_ids) is going to be at least 2\n",
    "    for j in range(1,len(n_ids)):\n",
    "        edge_id.append(counter)\n",
    "        node_1_new_id.append(new_n_ids[j-1])\n",
    "        node_1x.append(local_x_y[j-1][0])\n",
    "        node_1y.append(local_x_y[j-1][1])\n",
    "        \n",
    "        node_2_new_id.append(new_n_ids[j])\n",
    "        node_2x.append(local_x_y[j][0])\n",
    "        node_2y.append(local_x_y[j][1])\n",
    "        counter+=1\n",
    "        \n",
    "edge_data = {'edge_id': edge_id, 'node_1_id': node_1_new_id, 'node_1x': node_1x , 'node1y': node_1y,\n",
    "             'node_2_id':node_2_new_id, 'node_2x':node_2x, 'node_2y':node_2y}\n",
    "df_edges = pd.DataFrame(data=edge_data)\n",
    "\n",
    "df_edges.to_csv('./other_files/la_edges.csv', index = None)"
   ]
  },
  {
   "cell_type": "markdown",
   "metadata": {},
   "source": [
    "## Step 4: Plot graph using edges\n",
    "- Why plot a graph? \n",
    "    - It gives fine control and power over what we can do with the data"
   ]
  },
  {
   "cell_type": "code",
   "execution_count": null,
   "metadata": {},
   "outputs": [],
   "source": [
    "# we are actually plotting a graph here from nodes and edges\n",
    "\n",
    "fig, axes = plt.subplots(figsize=(20,20), dpi=200)\n",
    "\n",
    "# to not make it super tight\n",
    "axes.set_xlim([-5, 105])\n",
    "axes.set_ylim([-5, 105])\n",
    "\n",
    "# Plotting just using the edges\n",
    "for i, (edge_id,node_1_id,node_1x,node_1y,node_2_id,node_2x,node_2y) in tet.iterrows():\n",
    "        \n",
    "    x_c = [node_1x, node_2x]\n",
    "    y_c = [node_1y, node_2y]\n",
    "    \n",
    "    axes.plot(x_c,y_c,'b-',linewidth=0.3)\n",
    "           \n",
    "fig.savefig('./images/plot_newtwork.png')"
   ]
  },
  {
   "cell_type": "markdown",
   "metadata": {},
   "source": [
    "## Next Steps:\n",
    "1. Overlay the road network with topology graph to make a better visualization (Basemap provides tools for this)\n",
    "2. Overlay nodes of interest\n",
    "3. Some applications may require construction of adjacency matrix (Since we already have nodes and edges files, creating adjacency matrix should not be too difficult)\n",
    "\n",
    "#### Considerations while creating an adjacency matrix\n",
    "- How to encode the information on one way and two way roads? : Directed vs. Undirected graph\n",
    "- start with simple version, if an edge exists between the 2 nodes, the value is 1 else it is 0\n",
    "- nodes x nodes dimension\n",
    "\n",
    "#### What I did:\n",
    "- I plotted sensor locations by calculating the distance to the nearest road segment as an overlay on top of the map above"
   ]
  },
  {
   "cell_type": "markdown",
   "metadata": {},
   "source": [
    "## References: \n",
    "1. https://pubs.usgs.gov/pp/1395/report.pdf\n",
    "\n",
    "__I'm sorry its not perfect__\n",
    "- Dependency management sucks"
   ]
  },
  {
   "cell_type": "markdown",
   "metadata": {},
   "source": [
    "#### An example of overlay\n",
    "- This is a flat style, other overlays with topological maps are also available"
   ]
  },
  {
   "cell_type": "code",
   "execution_count": null,
   "metadata": {},
   "outputs": [],
   "source": [
    "# Create a base layer map with the bounding box in 4 different styles\n",
    "fig_1, axes_1 = plt.subplots(figsize=(10,10), dpi=100)\n",
    "axes_1.set_xlim([-5, 105])\n",
    "axes_1.set_ylim([-5, 105])\n",
    "m = Basemap(llcrnrlon = -118.6983,\n",
    "            llcrnrlat = 33.8017,\n",
    "            urcrnrlon = -117.7269,\n",
    "            urcrnrlat = 34.5720,\n",
    "            projection='cea',\n",
    "            resolution='h',\n",
    "            fix_aspect = False,\n",
    "            ax=axes_1)\n",
    "\n",
    "m.drawmapboundary(fill_color='#A6CAE0', linewidth=0)\n",
    "m.fillcontinents(color='brown', alpha=0.6, lake_color='grey')\n",
    "m.drawcoastlines(linewidth=0.1, color=\"white\")\n",
    "fig_1.savefig('./images/ base_layer.png')"
   ]
  }
 ],
 "metadata": {
  "kernelspec": {
   "display_name": "pyt_2",
   "language": "python",
   "name": "pyt_2"
  },
  "language_info": {
   "codemirror_mode": {
    "name": "ipython",
    "version": 3
   },
   "file_extension": ".py",
   "mimetype": "text/x-python",
   "name": "python",
   "nbconvert_exporter": "python",
   "pygments_lexer": "ipython3",
   "version": "3.9.1"
  }
 },
 "nbformat": 4,
 "nbformat_minor": 5
}
